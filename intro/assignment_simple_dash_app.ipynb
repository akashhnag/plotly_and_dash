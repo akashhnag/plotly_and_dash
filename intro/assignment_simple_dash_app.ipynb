{
 "cells": [
  {
   "cell_type": "code",
   "execution_count": 2,
   "metadata": {},
   "outputs": [],
   "source": [
    "import dash\n",
    "from dash import Dash,dcc,html\n",
    "from dash.dependencies import Input,Output\n",
    "from dash.exceptions import PreventUpdate"
   ]
  },
  {
   "cell_type": "code",
   "execution_count": 3,
   "metadata": {},
   "outputs": [
    {
     "data": {
      "text/html": [
       "\n",
       "        <iframe\n",
       "            width=\"100%\"\n",
       "            height=\"650\"\n",
       "            src=\"http://127.0.0.1:8050/\"\n",
       "            frameborder=\"0\"\n",
       "            allowfullscreen\n",
       "            \n",
       "        ></iframe>\n",
       "        "
      ],
      "text/plain": [
       "<IPython.lib.display.IFrame at 0x29841a8e090>"
      ]
     },
     "metadata": {},
     "output_type": "display_data"
    }
   ],
   "source": [
    "app=Dash(__name__)\n",
    "\n",
    "app.layout=html.Div(\n",
    "    [\n",
    "        'Select a state to Analyze',\n",
    "        dcc.Dropdown(\n",
    "            options=['California','Oregon','Washington'],\n",
    "            id='state-dropdown'\n",
    "        ),\n",
    "        html.Div(id='state-output')\n",
    "    ]\n",
    ")\n",
    "\n",
    "@app.callback(Output('state-output','children'),Input('state-dropdown','value'))\n",
    "\n",
    "def state_selector(state):\n",
    "    if not state:\n",
    "        raise PreventUpdate\n",
    "    return f\"State Selected:{state}\"\n",
    "\n",
    "app.run_server(debug=True)"
   ]
  }
 ],
 "metadata": {
  "kernelspec": {
   "display_name": "Python 3",
   "language": "python",
   "name": "python3"
  },
  "language_info": {
   "codemirror_mode": {
    "name": "ipython",
    "version": 3
   },
   "file_extension": ".py",
   "mimetype": "text/x-python",
   "name": "python",
   "nbconvert_exporter": "python",
   "pygments_lexer": "ipython3",
   "version": "3.12.6"
  }
 },
 "nbformat": 4,
 "nbformat_minor": 2
}
