{
 "cells": [
  {
   "cell_type": "code",
   "execution_count": 2,
   "metadata": {},
   "outputs": [],
   "source": [
    "import dash\n",
    "from dash import Dash,html,dcc\n",
    "from dash.dependencies import Input,Output\n",
    "from dash.exceptions import PreventUpdate\n",
    "import pandas as pd\n",
    "import plotly.express as px"
   ]
  },
  {
   "cell_type": "code",
   "execution_count": 3,
   "metadata": {},
   "outputs": [
    {
     "data": {
      "text/html": [
       "\n",
       "        <iframe\n",
       "            width=\"100%\"\n",
       "            height=\"650\"\n",
       "            src=\"http://127.0.0.1:8050/\"\n",
       "            frameborder=\"0\"\n",
       "            allowfullscreen\n",
       "            \n",
       "        ></iframe>\n",
       "        "
      ],
      "text/plain": [
       "<IPython.lib.display.IFrame at 0x189eb768e00>"
      ]
     },
     "metadata": {},
     "output_type": "display_data"
    }
   ],
   "source": [
    "df=pd.read_csv('states_all.csv',usecols=['STATE','YEAR','TOTAL_EXPENDITURE'])\n",
    "\n",
    "app=Dash(__name__)\n",
    "\n",
    "app.layout=html.Div(\n",
    "    [\n",
    "        'Select a state to analyze',\n",
    "        dcc.Dropdown(\n",
    "            id='state_dropdown',\n",
    "            options=['California','Oregon','Washington']\n",
    "        ),\n",
    "        dcc.Graph(id='visual')\n",
    "    ]\n",
    ")\n",
    "\n",
    "@app.callback(Output('visual','figure'),Input('state_dropdown','value'))\n",
    "\n",
    "def update_output_div(state):\n",
    "    if not state:\n",
    "        raise PreventUpdate\n",
    "    fig=px.line(\n",
    "        df.query(f\"STATE=='{state.upper()}' & YEAR>1992\"),\n",
    "        x='YEAR',\n",
    "        y='TOTAL_EXPENDITURE',\n",
    "        title=f\"Expenditure in '{state}'\"\n",
    "    )\n",
    "    return fig\n",
    "\n",
    "app.run_server(debug=True)"
   ]
  }
 ],
 "metadata": {
  "kernelspec": {
   "display_name": "Python 3",
   "language": "python",
   "name": "python3"
  },
  "language_info": {
   "codemirror_mode": {
    "name": "ipython",
    "version": 3
   },
   "file_extension": ".py",
   "mimetype": "text/x-python",
   "name": "python",
   "nbconvert_exporter": "python",
   "pygments_lexer": "ipython3",
   "version": "3.12.6"
  }
 },
 "nbformat": 4,
 "nbformat_minor": 2
}
