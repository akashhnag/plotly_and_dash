{
 "cells": [
  {
   "cell_type": "code",
   "execution_count": null,
   "metadata": {},
   "outputs": [],
   "source": [
    "\n",
    "\n",
    "import dash\n",
    "from dash import Dash,html,dcc\n",
    "from dash.dependencies import Input,Output\n",
    "from dash.exceptions import PreventUpdate\n",
    "\n"
   ]
  },
  {
   "cell_type": "code",
   "execution_count": null,
   "metadata": {},
   "outputs": [],
   "source": [
    "# a basic dash app\n",
    "app=Dash(__name__)\n",
    "app.layout=html.Div('Hello from Dash!!!')\n",
    "\n",
    "app.run_server(debug=True)"
   ]
  },
  {
   "cell_type": "code",
   "execution_count": null,
   "metadata": {},
   "outputs": [],
   "source": [
    "# a basic dropdown\n",
    "\n",
    "app=Dash(__name__)\n",
    "\n",
    "app.layout=html.Div([\n",
    "    'Pick a country:',\n",
    " dcc.Dropdown(\n",
    "    options=['India','China','Pakistan','Bangladesh', 'Sri lanka']\n",
    "    )\n",
    "]\n",
    "   \n",
    ")\n",
    "\n",
    "app.run_server(debug=True)\n"
   ]
  },
  {
   "cell_type": "code",
   "execution_count": null,
   "metadata": {},
   "outputs": [],
   "source": [
    "# callback example\n",
    "\n",
    "app=Dash(__name__)\n",
    "\n",
    "app.layout=html.Div(\n",
    "    [\n",
    "        dcc.Dropdown(\n",
    "            options=['Red','Green','Blue'],\n",
    "            id='color-input'\n",
    "        ),\n",
    "        html.Div(id='color-output')\n",
    "    ]\n",
    ")\n",
    "\n",
    "@app.callback(Output('color-output','children'),Input('color-input','value'))\n",
    "def update_output_div(color):\n",
    "    if not color:\n",
    "        raise PreventUpdate\n",
    "    return f\"Color Selected:{color}\"\n",
    "\n",
    "if __name__==\"__main__\":\n",
    "    app.run_server(debug=True)"
   ]
  }
 ],
 "metadata": {
  "kernelspec": {
   "display_name": "Python 3",
   "language": "python",
   "name": "python3"
  },
  "language_info": {
   "codemirror_mode": {
    "name": "ipython",
    "version": 3
   },
   "file_extension": ".py",
   "mimetype": "text/x-python",
   "name": "python",
   "nbconvert_exporter": "python",
   "pygments_lexer": "ipython3",
   "version": "3.12.6"
  }
 },
 "nbformat": 4,
 "nbformat_minor": 2
}
