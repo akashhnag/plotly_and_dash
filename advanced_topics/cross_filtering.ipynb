{
 "cells": [
  {
   "cell_type": "code",
   "execution_count": 6,
   "metadata": {},
   "outputs": [],
   "source": [
    "from dash import Dash, html, dcc, Input, Output\n",
    "from dash.exceptions import PreventUpdate\n",
    "from dash_bootstrap_templates import load_figure_template\n",
    "import dash_bootstrap_components as dbc\n",
    "import pandas as pd\n",
    "import plotly.express as px"
   ]
  },
  {
   "cell_type": "code",
   "execution_count": 8,
   "metadata": {},
   "outputs": [
    {
     "data": {
      "text/html": [
       "\n",
       "        <iframe\n",
       "            width=\"100%\"\n",
       "            height=\"650\"\n",
       "            src=\"http://127.0.0.1:8050/\"\n",
       "            frameborder=\"0\"\n",
       "            allowfullscreen\n",
       "            \n",
       "        ></iframe>\n",
       "        "
      ],
      "text/plain": [
       "<IPython.lib.display.IFrame at 0x727d4ff0d5e0>"
      ]
     },
     "metadata": {},
     "output_type": "display_data"
    }
   ],
   "source": [
    "dbc_css='https://dcn.jsdelivr.net/gh/AnnMarieW/dash-bbotstrap-template/dbc.min.css'\n",
    "load_figure_template('SLATE')\n",
    "app=Dash(__name__,external_stylesheets=[dbc.themes.SLATE,dbc_css])\n",
    "\n",
    "education=(pd\n",
    ".read_csv('states_all.csv')\n",
    ".iloc[:, 1:]\n",
    ".rename({\n",
    "    'AVG_MATH_4_SCORE':'4th Gr. Math',\n",
    "    'AVG_MATH_8_SCORE':'8th Gr. Math',\n",
    "    'AVG_READING_4_SCORE':'4th Gr. Reading',\n",
    "    'AVG_READING_8_SCORE':'8th Gr. Reading',\n",
    "},axis=1)\n",
    ".assign(expenditure_per_student=lambda x:x['TOTAL_EXPENDITURE']/x['GRADES_ALL_G']))\n",
    "\n",
    "app.layout=html.Div([\n",
    "    dbc.Row(html.H1('Education Performance and Expenditure in the US', style={'text-align':'center'})),\n",
    "    dbc.Row([\n",
    "        dbc.Col([\n",
    "            dbc.Card([\n",
    "                dcc.Markdown('Select an X Column'),\n",
    "                dcc.RadioItems(\n",
    "                    id='score-radio',\n",
    "                    options=['4th Gr. Math','8th Gr. Math','4th Gr. Reading','8th Gr. Reading'],\n",
    "                    value='8th Gr. Math'\n",
    "                ),\n",
    "                html.Hr(),\n",
    "                dcc.Markdown('Select a Y column'),\n",
    "                dcc.RadioItems(\n",
    "                    id='score-radio2',\n",
    "                    options=['4th Gr. Math','8th Gr. Math','4th Gr. Reading','8th Gr. Reading'],\n",
    "                    value='8th Gr. Math'\n",
    "                )\n",
    "            ])\n",
    "        ]),\n",
    "        dbc.Col(\n",
    "            dcc.Graph(id='cross-filter-scatter', hoverData={'points':[{'customdata':['CALIFORNIA']}]})\n",
    "        ),\n",
    "        dbc.Col(dcc.Graph(id='x-line'))\n",
    "    ])\n",
    "])\n",
    "\n",
    "@app.callback(Output('cross-filter-scatter','figure'),Input('score-radio','value'),Input('score-radio2','value'))\n",
    "def score_scatter(x,y):\n",
    "    fig=px.scatter(\n",
    "        education.query('YEAR==2013'),\n",
    "        x=x,\n",
    "        y=y,\n",
    "        hover_name='STATE',\n",
    "        custom_data=['STATE']\n",
    "    )\n",
    "    return fig\n",
    "\n",
    "@app.callback(Output('x-line','figure'),Input('cross-filter-scatter','hoverData'))\n",
    "def update_line(hoverData):\n",
    "    state_name=hoverData['points'][0]['customdata'][0]\n",
    "    df=education.query('STATE==@state_name')\n",
    "\n",
    "    fig=px.line(\n",
    "        df,\n",
    "        x='YEAR',\n",
    "        y='expenditure_per_student',\n",
    "        title=f'Expenditure Per Student in {state_name.title()}'\n",
    "    ).update_xaxes(showgrid=False)\n",
    "\n",
    "    return fig\n",
    "\n",
    "if __name__=='__main__':\n",
    "    app.run_server(debug=True)"
   ]
  }
 ],
 "metadata": {
  "kernelspec": {
   "display_name": "myenv",
   "language": "python",
   "name": "python3"
  },
  "language_info": {
   "codemirror_mode": {
    "name": "ipython",
    "version": 3
   },
   "file_extension": ".py",
   "mimetype": "text/x-python",
   "name": "python",
   "nbconvert_exporter": "python",
   "pygments_lexer": "ipython3",
   "version": "3.12.3"
  }
 },
 "nbformat": 4,
 "nbformat_minor": 2
}
