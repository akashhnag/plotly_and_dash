{
 "cells": [
  {
   "cell_type": "code",
   "execution_count": 12,
   "metadata": {},
   "outputs": [],
   "source": [
    "from dash import Dash,html,dcc,dash_table, Input, Output\n",
    "import plotly.express as px\n",
    "import pandas as pd"
   ]
  },
  {
   "cell_type": "code",
   "execution_count": 13,
   "metadata": {},
   "outputs": [
    {
     "data": {
      "text/html": [
       "\n",
       "        <iframe\n",
       "            width=\"100%\"\n",
       "            height=\"650\"\n",
       "            src=\"http://127.0.0.1:8050/\"\n",
       "            frameborder=\"0\"\n",
       "            allowfullscreen\n",
       "            \n",
       "        ></iframe>\n",
       "        "
      ],
      "text/plain": [
       "<IPython.lib.display.IFrame at 0x7df5880755e0>"
      ]
     },
     "metadata": {},
     "output_type": "display_data"
    }
   ],
   "source": [
    "app=Dash(__name__)\n",
    "\n",
    "df=(\n",
    "    pd.read_csv('states_all.csv')\n",
    "    .iloc[:,1:]\n",
    "    .groupby('STATE',as_index=False)\n",
    "    .agg({'TOTAL_EXPENDITURE':'mean'})\n",
    "    .sort_values('TOTAL_EXPENDITURE',ascending=False)\n",
    ")\n",
    "\n",
    "app.layout=html.Div([\n",
    "    dcc.RadioItems(\n",
    "        id='OutputPicker',\n",
    "        options=['bar','table'],\n",
    "        value='bar'\n",
    "    ),\n",
    "    html.Div(id='Output Div')\n",
    "])\n",
    "\n",
    "@app.callback(Output('Output Div','children'),Input('OutputPicker','value'))\n",
    "\n",
    "def output_generator(output_style):\n",
    "    if output_style=='bar':\n",
    "        output=dcc.Graph(figure=px.bar(df,x='STATE',y='TOTAL_EXPENDITURE')) \n",
    "    else:\n",
    "        output=dash_table.DataTable(\n",
    "            columns=[{'name':i,'id':i} for i in df.columns],\n",
    "            data=df.to_dict('records')\n",
    "        )  \n",
    "    return output\n",
    "\n",
    "app.run_server(debug=True)"
   ]
  }
 ],
 "metadata": {
  "kernelspec": {
   "display_name": "myenv",
   "language": "python",
   "name": "python3"
  },
  "language_info": {
   "codemirror_mode": {
    "name": "ipython",
    "version": 3
   },
   "file_extension": ".py",
   "mimetype": "text/x-python",
   "name": "python",
   "nbconvert_exporter": "python",
   "pygments_lexer": "ipython3",
   "version": "3.12.3"
  }
 },
 "nbformat": 4,
 "nbformat_minor": 2
}
