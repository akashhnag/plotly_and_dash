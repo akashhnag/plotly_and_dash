{
 "cells": [
  {
   "cell_type": "code",
   "execution_count": 4,
   "metadata": {},
   "outputs": [
    {
     "data": {
      "text/html": [
       "\n",
       "        <iframe\n",
       "            width=\"100%\"\n",
       "            height=\"650\"\n",
       "            src=\"http://127.0.0.1:8334/\"\n",
       "            frameborder=\"0\"\n",
       "            allowfullscreen\n",
       "            \n",
       "        ></iframe>\n",
       "        "
      ],
      "text/plain": [
       "<IPython.lib.display.IFrame at 0x72b50016e3c0>"
      ]
     },
     "metadata": {},
     "output_type": "display_data"
    }
   ],
   "source": [
    "from dash import Dash, dcc, html, dash_table\n",
    "from dash.dependencies import Output, Input\n",
    "from dash.exceptions import PreventUpdate\n",
    "import dash_bootstrap_components as dbc\n",
    "\n",
    "import plotly.express as px\n",
    "import pandas as pd\n",
    "\n",
    "ski_resorts = pd.read_csv(\"European_Ski_Resorts.csv\").drop(\"Unnamed: 0\", axis=1)\n",
    "\n",
    "dbc_css = \"https://cdn.jsdelivr.net/gh/AnnMarieW/dash-bootstrap-templates/dbc.min.css\"\n",
    "\n",
    "app = Dash(__name__, external_stylesheets=[dbc.themes.SLATE, dbc_css])\n",
    "\n",
    "app.layout = html.Div([\n",
    "    html.H2(id=\"title\", style={\"text-align\": \"center\"}),\n",
    "    html.P(\"Select Options Below:\"),\n",
    "    dcc.Dropdown(\n",
    "        id=\"country-dropdown\", \n",
    "        options=ski_resorts[\"Country\"].unique(),\n",
    "        value=\"Andorra\",\n",
    "        className=\"dbc\"\n",
    "    ),\n",
    "    dcc.Slider(\n",
    "        id=\"Elevation Slider\",\n",
    "        min=0,\n",
    "        max=4000,\n",
    "        step=500,\n",
    "        value=500,\n",
    "        marks={\n",
    "            i:{\"label\": f'{i}m', \"style\": {\"fontSize\": 16}} \n",
    "               for i in range(0, 4000, 500)},\n",
    "        className=\"dbc\"\n",
    "    ),\n",
    "    html.Div(id=\"output-div\")\n",
    "])\n",
    "\n",
    "@app.callback(\n",
    "    Output(\"title\", \"children\"),\n",
    "    Output(\"output-div\", \"children\"),\n",
    "    Input(\"country-dropdown\", \"value\"),\n",
    "    Input(\"Elevation Slider\", \"value\"),\n",
    ")\n",
    "\n",
    "def elevation_table(country, elevation):\n",
    "    if not country and elevation:\n",
    "        raise PreventUpdate\n",
    "    \n",
    "    title = f\"Ski Resorts in {country} with peaks above {elevation}M\"\n",
    "    \n",
    "    df = ski_resorts.query(\"HighestPoint > @elevation and Country == @country\")\n",
    "    \n",
    "    table = dash_table.DataTable(             \n",
    "        columns=[{\"name\": i, \"id\": i} for i in df.columns],\n",
    "        data=df.to_dict(\"records\"),\n",
    "        filter_action=\"native\",\n",
    "        sort_action=\"native\",\n",
    "        export_format=\"xlsx\",\n",
    "        style_header={\n",
    "                'backgroundColor': 'rgb(30, 30, 30)',\n",
    "                'color': 'lightgrey',\n",
    "                'font-family': \"Arial\"\n",
    "        },\n",
    "        style_data={\n",
    "                'backgroundColor': 'rgb(50, 50, 50)',\n",
    "                'color': 'grey',\n",
    "                'font-family': \"Arial\"\n",
    "        }\n",
    "    )\n",
    "\n",
    "    return title, table \n",
    "    \n",
    "if __name__ == \"__main__\":\n",
    "    app.run_server(mode=\"inline\", debug=True, port=8334)"
   ]
  }
 ],
 "metadata": {
  "kernelspec": {
   "display_name": "myenv",
   "language": "python",
   "name": "python3"
  },
  "language_info": {
   "codemirror_mode": {
    "name": "ipython",
    "version": 3
   },
   "file_extension": ".py",
   "mimetype": "text/x-python",
   "name": "python",
   "nbconvert_exporter": "python",
   "pygments_lexer": "ipython3",
   "version": "3.12.3"
  }
 },
 "nbformat": 4,
 "nbformat_minor": 2
}
