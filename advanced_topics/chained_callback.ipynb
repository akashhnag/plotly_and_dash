{
 "cells": [
  {
   "cell_type": "code",
   "execution_count": 15,
   "metadata": {},
   "outputs": [],
   "source": [
    "from dash import Dash, html, dcc, dash_table, Input, Output\n",
    "from dash.exceptions import PreventUpdate\n",
    "import plotly.express as px\n",
    "import pandas as pd"
   ]
  },
  {
   "cell_type": "code",
   "execution_count": 16,
   "metadata": {},
   "outputs": [
    {
     "data": {
      "text/html": [
       "\n",
       "        <iframe\n",
       "            width=\"100%\"\n",
       "            height=\"650\"\n",
       "            src=\"http://127.0.0.1:8051/\"\n",
       "            frameborder=\"0\"\n",
       "            allowfullscreen\n",
       "            \n",
       "        ></iframe>\n",
       "        "
      ],
      "text/plain": [
       "<IPython.lib.display.IFrame at 0x793e68bf4d70>"
      ]
     },
     "metadata": {},
     "output_type": "display_data"
    }
   ],
   "source": [
    "app=Dash(__name__)\n",
    "\n",
    "education=(pd.read_csv('states_all.csv')\n",
    ".iloc[:, 1:]\n",
    ".assign(\n",
    "    Avg_Math=lambda x:x[['AVG_MATH_4_SCORE','AVG_MATH_8_SCORE']].mean(axis=1),\n",
    "    Avg_Reading=lambda x:x[['AVG_READING_4_SCORE','AVG_READING_8_SCORE']].mean(axis=1)\n",
    "))\n",
    "\n",
    "all_options={\n",
    "    'By Subject':[\n",
    "        {'label':'Math', 'value':'Avg_Math'},\n",
    "        {'label':'Rading', 'value':'Avg_Reading'}\n",
    "    ],\n",
    "    'By Grade and Subject':[\n",
    "        {'label':'4th Grade Math','value':'AVG_MATH_4_SCORE'},\n",
    "        {'label':'8th Grade Math','value':'AVG_MATH_8_SCORE'},\n",
    "        {'label':'4th Grade Reading','value':'AVG_READING_4_SCORE'},\n",
    "        {'label':'8th Grade Reading','value':'AVG_READING_8_SCORE'},\n",
    "    ]\n",
    "}\n",
    "\n",
    "app.layout=html.Div([\n",
    "    dcc.RadioItems(\n",
    "        id='report-type-radio',\n",
    "        options=['By Subject','By Grade and Subject'],\n",
    "        value='By Grade and Subject'\n",
    "    ),\n",
    "    dcc.RadioItems(id='metric-radio'),\n",
    "    dcc.Graph(id='metric-bar')\n",
    "])\n",
    "\n",
    "@app.callback(Output('metric-radio','options'),Input('report-type-radio','value'))\n",
    "def set_metrics_options(selected_report):\n",
    "    return all_options[selected_report]\n",
    "\n",
    "@app.callback(Output('metric-bar','figure'),Input('metric-radio','value'))\n",
    "def plot_bar(metric):\n",
    "    if not metric:\n",
    "        raise PreventUpdate\n",
    "    figure=px.bar((\n",
    "        education\n",
    "        .groupby('STATE',as_index=False)\n",
    "        .agg({metric:'mean'})\n",
    "        .sort_values(metric,ascending=False)\n",
    "    ),\n",
    "    x='STATE',\n",
    "    y=metric)\n",
    "\n",
    "    return figure\n",
    "\n",
    "app.run_server(debug=True, port=8051)"
   ]
  }
 ],
 "metadata": {
  "kernelspec": {
   "display_name": "myenv",
   "language": "python",
   "name": "python3"
  },
  "language_info": {
   "codemirror_mode": {
    "name": "ipython",
    "version": 3
   },
   "file_extension": ".py",
   "mimetype": "text/x-python",
   "name": "python",
   "nbconvert_exporter": "python",
   "pygments_lexer": "ipython3",
   "version": "3.12.3"
  }
 },
 "nbformat": 4,
 "nbformat_minor": 2
}
