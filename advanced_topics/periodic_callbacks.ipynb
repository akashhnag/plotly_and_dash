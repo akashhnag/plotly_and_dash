{
 "cells": [
  {
   "cell_type": "code",
   "execution_count": 2,
   "metadata": {},
   "outputs": [],
   "source": [
    "from dash import Dash, html, dcc, Input, Output\n",
    "import dash_bootstrap_components as dbc\n",
    "import plotly.express as px\n",
    "import pandas as pd"
   ]
  },
  {
   "cell_type": "code",
   "execution_count": 3,
   "metadata": {},
   "outputs": [],
   "source": [
    "from numpy.random import default_rng\n",
    "rng=default_rng(2023)"
   ]
  },
  {
   "cell_type": "code",
   "execution_count": 4,
   "metadata": {},
   "outputs": [
    {
     "data": {
      "text/html": [
       "\n",
       "        <iframe\n",
       "            width=\"100%\"\n",
       "            height=\"650\"\n",
       "            src=\"http://127.0.0.1:8050/\"\n",
       "            frameborder=\"0\"\n",
       "            allowfullscreen\n",
       "            \n",
       "        ></iframe>\n",
       "        "
      ],
      "text/plain": [
       "<IPython.lib.display.IFrame at 0x7f9d955d7470>"
      ]
     },
     "metadata": {},
     "output_type": "display_data"
    }
   ],
   "source": [
    "app=Dash(__name__)\n",
    "app.layout=html.Div([\n",
    "    dbc.Row(html.H1('Normal Distribution Simulator', style={'text-align':'center'})),\n",
    "    dbc.Row(\n",
    "        dbc.Col(dcc.Graph(id='random-data-scatter')),\n",
    "    ),\n",
    "    dcc.Interval(id='refresh-data-interval', interval=1000)\n",
    "])\n",
    "\n",
    "@app.callback(Output('random-data-scatter','figure'),Input('refresh-data-interval','n_intervals'))\n",
    "def rand_hist(n_intervals):\n",
    "    mean, stddev=100,10\n",
    "    fig=px.line(\n",
    "        x=rng.normal(mean,stddev,size=100),\n",
    "        title=f\"Random Histogram has run {n_intervals} times\"\n",
    "    )\n",
    "    return fig\n",
    "\n",
    "if __name__=='__main__':\n",
    "    app.run_server(debug=True)"
   ]
  }
 ],
 "metadata": {
  "kernelspec": {
   "display_name": "myenv",
   "language": "python",
   "name": "python3"
  },
  "language_info": {
   "codemirror_mode": {
    "name": "ipython",
    "version": 3
   },
   "file_extension": ".py",
   "mimetype": "text/x-python",
   "name": "python",
   "nbconvert_exporter": "python",
   "pygments_lexer": "ipython3",
   "version": "3.12.3"
  }
 },
 "nbformat": 4,
 "nbformat_minor": 2
}
