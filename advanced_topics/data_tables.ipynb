{
 "cells": [
  {
   "cell_type": "code",
   "execution_count": 2,
   "metadata": {},
   "outputs": [],
   "source": [
    "from  dash import Dash, html, dcc, dash_table\n",
    "import pandas as pd "
   ]
  },
  {
   "cell_type": "code",
   "execution_count": 6,
   "metadata": {},
   "outputs": [
    {
     "data": {
      "text/html": [
       "\n",
       "        <iframe\n",
       "            width=\"100%\"\n",
       "            height=\"650\"\n",
       "            src=\"http://127.0.0.1:8050/\"\n",
       "            frameborder=\"0\"\n",
       "            allowfullscreen\n",
       "            \n",
       "        ></iframe>\n",
       "        "
      ],
      "text/plain": [
       "<IPython.lib.display.IFrame at 0x7ea7e8bad3d0>"
      ]
     },
     "metadata": {},
     "output_type": "display_data"
    }
   ],
   "source": [
    "education=pd.read_csv('states_all.csv').iloc[:,1:]\n",
    "\n",
    "app=Dash(__name__)\n",
    "\n",
    "app.layout=html.Div([\n",
    "    dash_table.DataTable(\n",
    "        columns=[{'name':i,'id':i} for i in education.columns],\n",
    "        data=education.to_dict('records'),\n",
    "        filter_action='native',\n",
    "        sort_action='native',\n",
    "        export_format='csv',\n",
    "        style_header={\n",
    "            'backgroundColor':'rgb(30,30,30)',\n",
    "            'color':'lightgrey',\n",
    "            'font-family':'Arial'\n",
    "        },\n",
    "        style_data={\n",
    "            'backgroundColor':'rgb(50,50,50)',\n",
    "            'color':'grey',\n",
    "            'font-family':'Arial'\n",
    "        }\n",
    "    )\n",
    "])\n",
    "app.run_server(debug=True)"
   ]
  }
 ],
 "metadata": {
  "kernelspec": {
   "display_name": "myenv",
   "language": "python",
   "name": "python3"
  },
  "language_info": {
   "codemirror_mode": {
    "name": "ipython",
    "version": 3
   },
   "file_extension": ".py",
   "mimetype": "text/x-python",
   "name": "python",
   "nbconvert_exporter": "python",
   "pygments_lexer": "ipython3",
   "version": "3.12.3"
  }
 },
 "nbformat": 4,
 "nbformat_minor": 2
}
