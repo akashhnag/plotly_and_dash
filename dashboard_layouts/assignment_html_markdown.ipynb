{
 "cells": [
  {
   "cell_type": "code",
   "execution_count": 1,
   "metadata": {},
   "outputs": [],
   "source": [
    "import dash\n",
    "from dash import dcc,html"
   ]
  },
  {
   "cell_type": "code",
   "execution_count": 5,
   "metadata": {},
   "outputs": [
    {
     "data": {
      "text/html": [
       "\n",
       "        <iframe\n",
       "            width=\"100%\"\n",
       "            height=\"650\"\n",
       "            src=\"http://127.0.0.1:8050/\"\n",
       "            frameborder=\"0\"\n",
       "            allowfullscreen\n",
       "            \n",
       "        ></iframe>\n",
       "        "
      ],
      "text/plain": [
       "<IPython.lib.display.IFrame at 0x1517f215fd0>"
      ]
     },
     "metadata": {},
     "output_type": "display_data"
    }
   ],
   "source": [
    "# first assignment on html and markdown\n",
    "app=dash.Dash(__name__)\n",
    "\n",
    "app.layout=html.Div(\n",
    "    style={\n",
    "        'font-family':'Arial',\n",
    "        'backgroundColor':'black',\n",
    "        'color':'lightGrey'\n",
    "    },\n",
    "    children=[\n",
    "        html.H1('Hello!!'),\n",
    "        html.P(\n",
    "            ['Welcome to the ',html.Span(\n",
    "                'BEST',\n",
    "                style={\n",
    "                    'color':'Red',\n",
    "                    'font-weight':'Bold',\n",
    "                    'fontSize':32\n",
    "                }),\n",
    "                ' website in the world!'\n",
    "            ]\n",
    "        ),\n",
    "        html.Br(),\n",
    "        html.Div([\n",
    "            dcc.Markdown('''\n",
    "            #Section 1\n",
    "            ### Shopping List\n",
    "            * Apples\n",
    "            * Salad tongs\n",
    "            * Jumbo Couch\n",
    "            **Note to self**: Don't forget to bring shopping bag!            \n",
    "            '''),\n",
    "            html.Br(),\n",
    "            dcc.Markdown('''\n",
    "            # Section 2\n",
    "            ### Learning List\n",
    "            1. Python\n",
    "            2. More Python\n",
    "            3. A bit of HTML\n",
    "                         \n",
    "            **Note to self**: *Be kind to yourself if you get stuck.* \n",
    "            ''', style={'color':\"limegreen\"}\n",
    "            )\n",
    "            \n",
    "        ])\n",
    "    ]\n",
    ")\n",
    "\n",
    "app.run_server(debug=True)"
   ]
  }
 ],
 "metadata": {
  "kernelspec": {
   "display_name": "Python 3",
   "language": "python",
   "name": "python3"
  },
  "language_info": {
   "codemirror_mode": {
    "name": "ipython",
    "version": 3
   },
   "file_extension": ".py",
   "mimetype": "text/x-python",
   "name": "python",
   "nbconvert_exporter": "python",
   "pygments_lexer": "ipython3",
   "version": "3.12.6"
  }
 },
 "nbformat": 4,
 "nbformat_minor": 2
}
