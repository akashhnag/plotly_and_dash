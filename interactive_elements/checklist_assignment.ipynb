{
 "cells": [
  {
   "cell_type": "code",
   "execution_count": 2,
   "metadata": {},
   "outputs": [],
   "source": [
    "import pandas as pd\n",
    "import plotly.express as px\n",
    "import dash\n",
    "from dash import dcc, html\n",
    "from dash.dependencies import Input, Output\n",
    "import plotly.express as px"
   ]
  },
  {
   "cell_type": "code",
   "execution_count": null,
   "metadata": {},
   "outputs": [],
   "source": [
    "ski_resorts=pd.read_csv('European_Ski_Resorts.csv').drop(\"Unnamed: 0\",axis=1)\n",
    "\n",
    "ski_resorts.head()"
   ]
  },
  {
   "cell_type": "code",
   "execution_count": null,
   "metadata": {},
   "outputs": [],
   "source": [
    "app=dash.Dash(__name__)\n",
    "\n",
    "app.layout=html.Div([\n",
    "    dcc.Checklist(\n",
    "        id='Feature Checklist',\n",
    "        options=[\"Has Snow Park\", \"Has Night Ski\"],\n",
    "        value=[\"Has Snow Park\", \"Has Night Ski\"]\n",
    "    ),\n",
    "    dcc.Graph(id='graph')\n",
    "])\n",
    "\n",
    "@app.callback(\n",
    "    Output('graph','figure'),\n",
    "    Input(\"Feature Checklist\",'value'),\n",
    ")\n",
    "\n",
    "def plot_lift_number(features):\n",
    "    if features==[]:\n",
    "        df=(ski_resorts.groupby(\"Country\", as_index=False).agg({\"TotalLifts\":\"sum\"}))\n",
    "    elif len(features)==2:\n",
    "        df=(ski_resorts.query(\"Snowparks == 'Yes' and NightSki == 'Yes'\")\n",
    "                        .groupby(\"Country\",as_index=False)\n",
    "                        .agg({\"TotalLifts\":\"sum\"}))\n",
    "    elif features==[\"Has Snow Park\"]:\n",
    "        df=(ski_resorts.query(\"Snowparks == 'Yes'\")\n",
    "        .groupby(\"Country\",as_index=False)\n",
    "        .agg({\"TotalLifts\":\"sum\"}))\n",
    "    else:\n",
    "        df=(ski_resorts.query(\"NightSki == 'Yes'\")\n",
    "            .groupby(\"Country\",as_index=False)\n",
    "            .agg({\"TotalLifts\":\"sum\"}))\n",
    "        \n",
    "    fig=px.choropleth(\n",
    "        df,\n",
    "        locations=\"Country\",\n",
    "        color=\"TotalLifts\",\n",
    "        locationmode=\"country names\",\n",
    "        scope=\"europe\"\n",
    "    ).update_geos(fitbounds=\"locations\").update_layout(margin={'r':0,'t':0,'l':1,'b':0})\n",
    "\n",
    "    title=f\"{features}\"\n",
    "    return fig\n",
    "\n",
    "if __name__==\"__main__\":\n",
    "    app.run_server(debug=True)"
   ]
  }
 ],
 "metadata": {
  "kernelspec": {
   "display_name": "Python 3",
   "language": "python",
   "name": "python3"
  },
  "language_info": {
   "codemirror_mode": {
    "name": "ipython",
    "version": 3
   },
   "file_extension": ".py",
   "mimetype": "text/x-python",
   "name": "python",
   "nbconvert_exporter": "python",
   "pygments_lexer": "ipython3",
   "version": "3.12.6"
  }
 },
 "nbformat": 4,
 "nbformat_minor": 2
}
