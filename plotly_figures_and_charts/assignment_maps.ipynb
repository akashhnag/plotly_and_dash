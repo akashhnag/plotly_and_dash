{
 "cells": [
  {
   "cell_type": "code",
   "execution_count": 2,
   "metadata": {},
   "outputs": [
    {
     "data": {
      "text/html": [
       "\n",
       "        <iframe\n",
       "            width=\"100%\"\n",
       "            height=\"650\"\n",
       "            src=\"http://127.0.0.1:8050/\"\n",
       "            frameborder=\"0\"\n",
       "            allowfullscreen\n",
       "            \n",
       "        ></iframe>\n",
       "        "
      ],
      "text/plain": [
       "<IPython.lib.display.IFrame at 0x20a7728a0c0>"
      ]
     },
     "metadata": {},
     "output_type": "display_data"
    }
   ],
   "source": [
    "from dash import Dash, dcc, html\n",
    "\n",
    "from dash.dependencies import Output, Input\n",
    "from dash.exceptions import PreventUpdate\n",
    "\n",
    "import plotly.express as px\n",
    "import pandas as pd\n",
    "\n",
    "ski_resorts = pd.read_csv(\"European_Ski_Resorts.csv\").drop(\"Unnamed: 0\", axis=1)\n",
    "\n",
    "lift_type_by_country = (\n",
    "    ski_resorts\n",
    "    .groupby(\"Country\", as_index=False)\n",
    "    .agg({\"SurfaceLifts\":\"sum\", \"ChairLifts\":\"sum\", \"GondolaLifts\":\"sum\", \"TotalLifts\":\"sum\"})\n",
    "    .sort_values(\"TotalLifts\", ascending=False)\n",
    ")\n",
    "\n",
    "app = Dash(__name__)\n",
    "\n",
    "app.layout = html.Div([\n",
    "    html.H2(id=\"title\"),\n",
    "    dcc.Checklist(\n",
    "        id=\"Feature Checklist\",\n",
    "        options=[\"Has Snow Park\", \"Has Night Ski\"],\n",
    "        value=[\"Has Snow Park\", \"Has Night Ski\"]\n",
    "),\n",
    "    dcc.Graph(id=\"graph\"),\n",
    "])\n",
    "\n",
    "@app.callback(\n",
    "    Output('graph', 'figure'),\n",
    "    Input(\"Feature Checklist\", \"value\"),\n",
    ")\n",
    "\n",
    "def plot_lift_number(features):\n",
    "    if features == []:\n",
    "        df = (ski_resorts\n",
    "              .groupby(\"Country\", as_index=False)\n",
    "              .agg({\"TotalLifts\":\"sum\"})\n",
    "             )\n",
    "    elif len(features) == 2:\n",
    "        df = (ski_resorts\n",
    "              .query(\"Snowparks == 'Yes' and NightSki == 'Yes'\")\n",
    "              .groupby(\"Country\", as_index=False)\n",
    "              .agg({\"TotalLifts\":\"sum\"})\n",
    "             )\n",
    "    elif features == [\"Has Snow Park\"]:\n",
    "        df = (ski_resorts\n",
    "              .query(\"Snowparks == 'Yes'\")\n",
    "              .groupby(\"Country\", as_index=False)\n",
    "              .agg({\"TotalLifts\":\"sum\"})\n",
    "             )\n",
    "    else:\n",
    "        df = (ski_resorts\n",
    "              .query(\"NightSki == 'Yes'\")\n",
    "              .groupby(\"Country\", as_index=False)\n",
    "              .agg({\"TotalLifts\":\"sum\"})\n",
    "             )\n",
    "    fig = px.choropleth(\n",
    "        df,\n",
    "        locations=\"Country\",\n",
    "        color=\"TotalLifts\",\n",
    "        locationmode=\"country names\",\n",
    "        scope=\"europe\",\n",
    "    ).update_geos(fitbounds=\"locations\").update_layout(margin={\"r\":0,\"t\":0,\"l\":0,\"b\":0})\n",
    "    \n",
    "\n",
    "    return fig\n",
    "    \n",
    "if __name__ == \"__main__\":\n",
    "    app.run_server(\n",
    "        debug=True,      \n",
    ")"
   ]
  }
 ],
 "metadata": {
  "kernelspec": {
   "display_name": "Python 3",
   "language": "python",
   "name": "python3"
  },
  "language_info": {
   "codemirror_mode": {
    "name": "ipython",
    "version": 3
   },
   "file_extension": ".py",
   "mimetype": "text/x-python",
   "name": "python",
   "nbconvert_exporter": "python",
   "pygments_lexer": "ipython3",
   "version": "3.12.6"
  }
 },
 "nbformat": 4,
 "nbformat_minor": 2
}
