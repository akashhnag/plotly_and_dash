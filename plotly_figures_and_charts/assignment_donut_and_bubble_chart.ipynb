{
 "cells": [
  {
   "cell_type": "code",
   "execution_count": 2,
   "metadata": {},
   "outputs": [],
   "source": [
    "import plotly.express as px\n",
    "import pandas as pd"
   ]
  },
  {
   "cell_type": "code",
   "execution_count": 8,
   "metadata": {},
   "outputs": [
    {
     "data": {
      "application/vnd.plotly.v1+json": {
       "config": {
        "plotlyServerURL": "https://plot.ly"
       },
       "data": [
        {
         "hovertemplate": "Country=Austria<br>TotalLifts=%{x}<br>LiftCapacity=%{y}<br>GondolaLifts=%{marker.size}<extra></extra>",
         "legendgroup": "Austria",
         "marker": {
          "color": "#636efa",
          "size": [
           11,
           0,
           3,
           13,
           5,
           4,
           0,
           5,
           2,
           8,
           1,
           5,
           2,
           5,
           6,
           4,
           3,
           2,
           2,
           3,
           4,
           3,
           1,
           3,
           2,
           2,
           3,
           1,
           2,
           2,
           0,
           1,
           0,
           0,
           1,
           1,
           1,
           0,
           0,
           0,
           0,
           0,
           0,
           0,
           0,
           0,
           3,
           0,
           3,
           0,
           0,
           0,
           0,
           0,
           11,
           8,
           1,
           8,
           1,
           16,
           16,
           16,
           7,
           10,
           1,
           5,
           2,
           3,
           7,
           1,
           9,
           2,
           28,
           28,
           12,
           10,
           11,
           11,
           15,
           15,
           15,
           15,
           4,
           7,
           1,
           8,
           5,
           1,
           4
          ],
          "sizemode": "area",
          "sizeref": 0.1,
          "symbol": "circle"
         },
         "mode": "markers",
         "name": "Austria",
         "orientation": "v",
         "showlegend": true,
         "type": "scatter",
         "x": [
          49,
          2,
          36,
          56,
          30,
          28,
          3,
          39,
          25,
          27,
          17,
          20,
          17,
          24,
          22,
          13,
          15,
          12,
          14,
          14,
          17,
          17,
          18,
          10,
          9,
          19,
          7,
          19,
          15,
          13,
          8,
          15,
          8,
          6,
          18,
          8,
          8,
          6,
          7,
          4,
          10,
          15,
          8,
          9,
          6,
          12,
          11,
          9,
          8,
          13,
          4,
          6,
          10,
          9,
          54,
          28,
          9,
          47,
          5,
          105,
          105,
          105,
          17,
          46,
          10,
          35,
          13,
          11,
          45,
          12,
          57,
          31,
          71,
          71,
          68,
          53,
          49,
          49,
          113,
          113,
          113,
          113,
          20,
          26,
          9,
          36,
          26,
          4,
          19
         ],
         "xaxis": "x",
         "y": [
          75398,
          1932,
          32938,
          89415,
          49386,
          31186,
          3352,
          59933,
          37160,
          48407,
          17651,
          29710,
          26458,
          27388,
          38852,
          12500,
          18963,
          14286,
          31940,
          18808,
          22076,
          18276,
          22220,
          11927,
          15610,
          18464,
          10935,
          18525,
          17422,
          12363,
          6880,
          15623,
          7116,
          7162,
          18268,
          6043,
          9048,
          6624,
          6790,
          3570,
          10620,
          10815,
          6642,
          10110,
          3786,
          7350,
          2800,
          10110,
          11114,
          12843,
          4550,
          6741,
          5425,
          14400,
          92510,
          38861,
          13200,
          52789,
          4070,
          147250,
          147250,
          147250,
          33598,
          71842,
          13322,
          49232,
          15442,
          16240,
          88215,
          17254,
          82432,
          50797,
          135104,
          135104,
          78460,
          67472,
          75398,
          75398,
          145127,
          145127,
          145127,
          145127,
          21100,
          32699,
          10650,
          70370,
          39784,
          2980,
          25988
         ],
         "yaxis": "y"
        },
        {
         "hovertemplate": "Country=Andorra<br>TotalLifts=%{x}<br>LiftCapacity=%{y}<br>GondolaLifts=%{marker.size}<extra></extra>",
         "legendgroup": "Andorra",
         "marker": {
          "color": "#EF553B",
          "size": [
           7,
           4,
           7,
           7,
           1
          ],
          "sizemode": "area",
          "sizeref": 0.1,
          "symbol": "circle"
         },
         "mode": "markers",
         "name": "Andorra",
         "orientation": "v",
         "showlegend": true,
         "type": "scatter",
         "x": [
          72,
          31,
          72,
          72,
          15
         ],
         "xaxis": "x",
         "y": [
          99017,
          37400,
          99017,
          99017,
          14240
         ],
         "yaxis": "y"
        },
        {
         "hovertemplate": "Country=Southern Russia<br>TotalLifts=%{x}<br>LiftCapacity=%{y}<br>GondolaLifts=%{marker.size}<extra></extra>",
         "legendgroup": "Southern Russia",
         "marker": {
          "color": "#00cc96",
          "size": [
           10,
           0,
           6,
           7
          ],
          "sizemode": "area",
          "sizeref": 0.1,
          "symbol": "circle"
         },
         "mode": "markers",
         "name": "Southern Russia",
         "orientation": "v",
         "showlegend": true,
         "type": "scatter",
         "x": [
          27,
          4,
          18,
          9
         ],
         "xaxis": "x",
         "y": [
          49228,
          15740,
          27874,
          18120
         ],
         "yaxis": "y"
        },
        {
         "hovertemplate": "Country=Poland<br>TotalLifts=%{x}<br>LiftCapacity=%{y}<br>GondolaLifts=%{marker.size}<extra></extra>",
         "legendgroup": "Poland",
         "marker": {
          "color": "#ab63fa",
          "size": [
           0,
           1
          ],
          "sizemode": "area",
          "sizeref": 0.1,
          "symbol": "circle"
         },
         "mode": "markers",
         "name": "Poland",
         "orientation": "v",
         "showlegend": true,
         "type": "scatter",
         "x": [
          8,
          16
         ],
         "xaxis": "x",
         "y": [
          28020,
          22500
         ],
         "yaxis": "y"
        },
        {
         "hovertemplate": "Country=Bulgaria<br>TotalLifts=%{x}<br>LiftCapacity=%{y}<br>GondolaLifts=%{marker.size}<extra></extra>",
         "legendgroup": "Bulgaria",
         "marker": {
          "color": "#FFA15A",
          "size": [
           2,
           2,
           0,
           2
          ],
          "sizemode": "area",
          "sizeref": 0.1,
          "symbol": "circle"
         },
         "mode": "markers",
         "name": "Bulgaria",
         "orientation": "v",
         "showlegend": true,
         "type": "scatter",
         "x": [
          15,
          14,
          13,
          17
         ],
         "xaxis": "x",
         "y": [
          12450,
          15800,
          14266,
          24233
         ],
         "yaxis": "y"
        },
        {
         "hovertemplate": "Country=Bosnia and Herzegovina<br>TotalLifts=%{x}<br>LiftCapacity=%{y}<br>GondolaLifts=%{marker.size}<extra></extra>",
         "legendgroup": "Bosnia and Herzegovina",
         "marker": {
          "color": "#19d3f3",
          "size": [
           1
          ],
          "sizemode": "area",
          "sizeref": 0.1,
          "symbol": "circle"
         },
         "mode": "markers",
         "name": "Bosnia and Herzegovina",
         "orientation": "v",
         "showlegend": true,
         "type": "scatter",
         "x": [
          11
         ],
         "xaxis": "x",
         "y": [
          16230
         ],
         "yaxis": "y"
        },
        {
         "hovertemplate": "Country=Slovenia<br>TotalLifts=%{x}<br>LiftCapacity=%{y}<br>GondolaLifts=%{marker.size}<extra></extra>",
         "legendgroup": "Slovenia",
         "marker": {
          "color": "#FF6692",
          "size": [
           0,
           1,
           4,
           0
          ],
          "sizemode": "area",
          "sizeref": 0.1,
          "symbol": "circle"
         },
         "mode": "markers",
         "name": "Slovenia",
         "orientation": "v",
         "showlegend": true,
         "type": "scatter",
         "x": [
          6,
          22,
          11,
          20
         ],
         "xaxis": "x",
         "y": [
          5720,
          23436,
          11670,
          17774
         ],
         "yaxis": "y"
        },
        {
         "hovertemplate": "Country=France<br>TotalLifts=%{x}<br>LiftCapacity=%{y}<br>GondolaLifts=%{marker.size}<extra></extra>",
         "legendgroup": "France",
         "marker": {
          "color": "#B6E880",
          "size": [
           0,
           0,
           40,
           40,
           0,
           9,
           9,
           2,
           4,
           3,
           2,
           3,
           7,
           3,
           2,
           3,
           1,
           3,
           3,
           1,
           2,
           1,
           0,
           1,
           2,
           2,
           0,
           1,
           0,
           0,
           1,
           1,
           0,
           0,
           1,
           5,
           3,
           0,
           1,
           0,
           0,
           0,
           0,
           0,
           0,
           5,
           1,
           0,
           1,
           2,
           3,
           0,
           0,
           0,
           0,
           0,
           0,
           8,
           11,
           40,
           11,
           11,
           11,
           40,
           12,
           20,
           0,
           1,
           1,
           4,
           2,
           0,
           0,
           2,
           1,
           40,
           7,
           4,
           0,
           0,
           7,
           40,
           7
          ],
          "sizemode": "area",
          "sizeref": 0.1,
          "symbol": "circle"
         },
         "mode": "markers",
         "name": "France",
         "orientation": "v",
         "showlegend": true,
         "type": "scatter",
         "x": [
          8,
          5,
          165,
          165,
          72,
          72,
          86,
          51,
          38,
          56,
          31,
          19,
          49,
          28,
          28,
          22,
          24,
          31,
          30,
          24,
          38,
          16,
          29,
          25,
          33,
          19,
          12,
          10,
          10,
          22,
          13,
          22,
          16,
          17,
          24,
          19,
          16,
          15,
          20,
          8,
          33,
          9,
          28,
          24,
          21,
          5,
          22,
          14,
          13,
          19,
          12,
          13,
          14,
          15,
          18,
          14,
          13,
          52,
          86,
          165,
          174,
          174,
          174,
          165,
          100,
          68,
          11,
          11,
          4,
          9,
          12,
          83,
          11,
          3,
          40,
          165,
          54,
          24,
          20,
          6,
          61,
          165,
          71
         ],
         "xaxis": "x",
         "y": [
          10025,
          12610,
          250860,
          250860,
          83807,
          97624,
          106362,
          50145,
          40680,
          60248,
          43300,
          25030,
          59346,
          26600,
          39824,
          21807,
          32232,
          38733,
          29605,
          27646,
          40231,
          24398,
          25940,
          29842,
          36904,
          21320,
          17155,
          15800,
          13615,
          17948,
          13290,
          25195,
          17452,
          22791,
          27378,
          26734,
          19859,
          13486,
          21787,
          9228,
          29480,
          7380,
          24745,
          26205,
          19380,
          4820,
          21245,
          14462,
          15965,
          16750,
          19660,
          10432,
          13320,
          11130,
          21515,
          12290,
          11865,
          82641,
          145461,
          250860,
          252280,
          252280,
          252280,
          250860,
          136733,
          92097,
          8213,
          13038,
          4150,
          15756,
          14860,
          90852,
          6808,
          1460,
          53669,
          250860,
          72334,
          33972,
          21020,
          7100,
          72066,
          250860,
          96433
         ],
         "yaxis": "y"
        },
        {
         "hovertemplate": "Country=Switzerland<br>TotalLifts=%{x}<br>LiftCapacity=%{y}<br>GondolaLifts=%{marker.size}<extra></extra>",
         "legendgroup": "Switzerland",
         "marker": {
          "color": "#FF97FF",
          "size": [
           1,
           11,
           0,
           3,
           12,
           8,
           6,
           4,
           3,
           7,
           1,
           1,
           4,
           1,
           2,
           5,
           4,
           1,
           1,
           5,
           1,
           2,
           3,
           2,
           6,
           0,
           0,
           4,
           3,
           2,
           2,
           0,
           1,
           2,
           0,
           1,
           2,
           5,
           0,
           1,
           3,
           1,
           20,
           5,
           1,
           3,
           1,
           1,
           5,
           0,
           2,
           0,
           8,
           4,
           19,
           19,
           19,
           19,
           6,
           20,
           9
          ],
          "sizemode": "area",
          "sizeref": 0.1,
          "symbol": "circle"
         },
         "mode": "markers",
         "name": "Switzerland",
         "orientation": "v",
         "showlegend": true,
         "type": "scatter",
         "x": [
          15,
          33,
          19,
          14,
          38,
          18,
          26,
          21,
          21,
          20,
          13,
          13,
          21,
          13,
          13,
          15,
          25,
          15,
          16,
          17,
          14,
          6,
          9,
          17,
          16,
          13,
          12,
          15,
          7,
          11,
          11,
          14,
          14,
          7,
          9,
          6,
          14,
          14,
          11,
          15,
          10,
          5,
          63,
          23,
          7,
          13,
          1,
          10,
          28,
          1,
          5,
          1,
          50,
          33,
          75,
          75,
          75,
          75,
          26,
          63,
          25
         ],
         "xaxis": "x",
         "y": [
          5790,
          46116,
          20720,
          18510,
          41109,
          26795,
          34620,
          18360,
          19345,
          23316,
          14000,
          18000,
          30867,
          10990,
          13640,
          16381,
          19956,
          10350,
          12980,
          15363,
          12462,
          6800,
          12720,
          20930,
          13852,
          10030,
          12100,
          12592,
          6500,
          12786,
          14150,
          10540,
          16650,
          13600,
          7470,
          4620,
          13394,
          11390,
          3970,
          13860,
          10260,
          2577,
          93464,
          29500,
          6900,
          15800,
          800,
          6640,
          31220,
          900,
          3601,
          600,
          63936,
          38905,
          85022,
          85022,
          85022,
          85022,
          29250,
          93464,
          25160
         ],
         "yaxis": "y"
        },
        {
         "hovertemplate": "Country=Germany<br>TotalLifts=%{x}<br>LiftCapacity=%{y}<br>GondolaLifts=%{marker.size}<extra></extra>",
         "legendgroup": "Germany",
         "marker": {
          "color": "#FECB52",
          "size": [
           0,
           4,
           4,
           2,
           0,
           0,
           0,
           0,
           0,
           0,
           3,
           0,
           1,
           0,
           0,
           0,
           0,
           0,
           0,
           0,
           0,
           0,
           1,
           0
          ],
          "sizemode": "area",
          "sizeref": 0.1,
          "symbol": "circle"
         },
         "mode": "markers",
         "name": "Germany",
         "orientation": "v",
         "showlegend": true,
         "type": "scatter",
         "x": [
          3,
          10,
          19,
          4,
          14,
          10,
          9,
          3,
          15,
          9,
          8,
          3,
          9,
          6,
          4,
          6,
          3,
          4,
          9,
          6,
          10,
          4,
          21,
          4
         ],
         "xaxis": "x",
         "y": [
          2800,
          13150,
          21090,
          3250,
          17624,
          6266,
          6950,
          3710,
          17477,
          7420,
          5990,
          1980,
          7384,
          4324,
          3300,
          5140,
          4000,
          3350,
          6762,
          12388,
          5850,
          3229,
          19100,
          2880
         ],
         "yaxis": "y"
        },
        {
         "hovertemplate": "Country=Spain<br>TotalLifts=%{x}<br>LiftCapacity=%{y}<br>GondolaLifts=%{marker.size}<extra></extra>",
         "legendgroup": "Spain",
         "marker": {
          "color": "#636efa",
          "size": [
           1,
           0,
           0,
           2,
           0,
           0,
           2,
           2
          ],
          "sizemode": "area",
          "sizeref": 0.1,
          "symbol": "circle"
         },
         "mode": "markers",
         "name": "Spain",
         "orientation": "v",
         "showlegend": true,
         "type": "scatter",
         "x": [
          33,
          19,
          25,
          6,
          16,
          20,
          35,
          21
         ],
         "xaxis": "x",
         "y": [
          39750,
          20670,
          19650,
          4840,
          13750,
          29450,
          53997,
          59205
         ],
         "yaxis": "y"
        },
        {
         "hovertemplate": "Country=Italy<br>TotalLifts=%{x}<br>LiftCapacity=%{y}<br>GondolaLifts=%{marker.size}<extra></extra>",
         "legendgroup": "Italy",
         "marker": {
          "color": "#EF553B",
          "size": [
           11,
           0,
           1,
           4,
           3,
           6,
           0,
           2,
           4,
           3,
           3,
           4,
           10,
           1,
           6,
           4,
           2,
           2,
           0,
           3,
           2,
           1,
           2,
           1,
           2,
           2,
           3,
           1,
           0,
           5,
           4,
           6,
           17,
           6,
           1,
           6,
           2,
           7,
           3,
           21,
           14,
           7,
           12,
           12
          ],
          "sizemode": "area",
          "sizeref": 0.1,
          "symbol": "circle"
         },
         "mode": "markers",
         "name": "Italy",
         "orientation": "v",
         "showlegend": true,
         "type": "scatter",
         "x": [
          59,
          33,
          23,
          26,
          23,
          30,
          30,
          17,
          23,
          24,
          27,
          30,
          39,
          17,
          24,
          17,
          16,
          15,
          5,
          22,
          20,
          17,
          18,
          20,
          10,
          15,
          13,
          6,
          15,
          8,
          10,
          44,
          65,
          40,
          40,
          18,
          14,
          71,
          13,
          32,
          84,
          71,
          30,
          30
         ],
         "xaxis": "x",
         "y": [
          89327,
          26068,
          27588,
          36602,
          33289,
          21535,
          35900,
          24030,
          43973,
          29859,
          35624,
          49825,
          56216,
          20655,
          23617,
          22154,
          13965,
          17630,
          3660,
          36540,
          19200,
          24056,
          23996,
          23746,
          9478,
          17354,
          15418,
          4300,
          12040,
          3540,
          16280,
          50850,
          102340,
          48089,
          53669,
          24497,
          15838,
          96433,
          26060,
          71205,
          121914,
          96433,
          31984,
          31984
         ],
         "yaxis": "y"
        },
        {
         "hovertemplate": "Country=Sweden<br>TotalLifts=%{x}<br>LiftCapacity=%{y}<br>GondolaLifts=%{marker.size}<extra></extra>",
         "legendgroup": "Sweden",
         "marker": {
          "color": "#00cc96",
          "size": [
           4,
           0,
           0,
           0,
           0,
           0
          ],
          "sizemode": "area",
          "sizeref": 0.1,
          "symbol": "circle"
         },
         "mode": "markers",
         "name": "Sweden",
         "orientation": "v",
         "showlegend": true,
         "type": "scatter",
         "x": [
          36,
          53,
          46,
          19,
          25,
          17
         ],
         "xaxis": "x",
         "y": [
          39000,
          50505,
          42636,
          19250,
          24760,
          19270
         ],
         "yaxis": "y"
        },
        {
         "hovertemplate": "Country=Norway<br>TotalLifts=%{x}<br>LiftCapacity=%{y}<br>GondolaLifts=%{marker.size}<extra></extra>",
         "legendgroup": "Norway",
         "marker": {
          "color": "#ab63fa",
          "size": [
           0,
           0,
           3,
           0,
           0,
           1,
           0,
           0,
           0,
           0
          ],
          "sizemode": "area",
          "sizeref": 0.1,
          "symbol": "circle"
         },
         "mode": "markers",
         "name": "Norway",
         "orientation": "v",
         "showlegend": true,
         "type": "scatter",
         "x": [
          36,
          1,
          9,
          8,
          16,
          18,
          11,
          24,
          1,
          21
         ],
         "xaxis": "x",
         "y": [
          36182,
          0,
          10279,
          7600,
          17952,
          21060,
          11900,
          14225,
          1200,
          22921
         ],
         "yaxis": "y"
        },
        {
         "hovertemplate": "Country=Ukraine<br>TotalLifts=%{x}<br>LiftCapacity=%{y}<br>GondolaLifts=%{marker.size}<extra></extra>",
         "legendgroup": "Ukraine",
         "marker": {
          "color": "#FFA15A",
          "size": [
           0
          ],
          "sizemode": "area",
          "sizeref": 0.1,
          "symbol": "circle"
         },
         "mode": "markers",
         "name": "Ukraine",
         "orientation": "v",
         "showlegend": true,
         "type": "scatter",
         "x": [
          18
         ],
         "xaxis": "x",
         "y": [
          33839
         ],
         "yaxis": "y"
        },
        {
         "hovertemplate": "Country=Finland<br>TotalLifts=%{x}<br>LiftCapacity=%{y}<br>GondolaLifts=%{marker.size}<extra></extra>",
         "legendgroup": "Finland",
         "marker": {
          "color": "#19d3f3",
          "size": [
           1,
           2,
           0
          ],
          "sizemode": "area",
          "sizeref": 0.1,
          "symbol": "circle"
         },
         "mode": "markers",
         "name": "Finland",
         "orientation": "v",
         "showlegend": true,
         "type": "scatter",
         "x": [
          29,
          29,
          22
         ],
         "xaxis": "x",
         "y": [
          28284,
          30110,
          22915
         ],
         "yaxis": "y"
        },
        {
         "hovertemplate": "Country=Serbia<br>TotalLifts=%{x}<br>LiftCapacity=%{y}<br>GondolaLifts=%{marker.size}<extra></extra>",
         "legendgroup": "Serbia",
         "marker": {
          "color": "#FF6692",
          "size": [
           0
          ],
          "sizemode": "area",
          "sizeref": 0.1,
          "symbol": "circle"
         },
         "mode": "markers",
         "name": "Serbia",
         "orientation": "v",
         "showlegend": true,
         "type": "scatter",
         "x": [
          27
         ],
         "xaxis": "x",
         "y": [
          35052
         ],
         "yaxis": "y"
        },
        {
         "hovertemplate": "Country=Slovakia<br>TotalLifts=%{x}<br>LiftCapacity=%{y}<br>GondolaLifts=%{marker.size}<extra></extra>",
         "legendgroup": "Slovakia",
         "marker": {
          "color": "#B6E880",
          "size": [
           5,
           1,
           0,
           2,
           0
          ],
          "sizemode": "area",
          "sizeref": 0.1,
          "symbol": "circle"
         },
         "mode": "markers",
         "name": "Slovakia",
         "orientation": "v",
         "showlegend": true,
         "type": "scatter",
         "x": [
          32,
          25,
          8,
          5,
          4
         ],
         "xaxis": "x",
         "y": [
          35225,
          13620,
          7700,
          11480,
          12480
         ],
         "yaxis": "y"
        },
        {
         "hovertemplate": "Country=Siberia<br>TotalLifts=%{x}<br>LiftCapacity=%{y}<br>GondolaLifts=%{marker.size}<extra></extra>",
         "legendgroup": "Siberia",
         "marker": {
          "color": "#FF97FF",
          "size": [
           4
          ],
          "sizemode": "area",
          "sizeref": 0.1,
          "symbol": "circle"
         },
         "mode": "markers",
         "name": "Siberia",
         "orientation": "v",
         "showlegend": true,
         "type": "scatter",
         "x": [
          12
         ],
         "xaxis": "x",
         "y": [
          19919
         ],
         "yaxis": "y"
        },
        {
         "hovertemplate": "Country=Czech Republic<br>TotalLifts=%{x}<br>LiftCapacity=%{y}<br>GondolaLifts=%{marker.size}<extra></extra>",
         "legendgroup": "Czech Republic",
         "marker": {
          "color": "#FECB52",
          "size": [
           0,
           0
          ],
          "sizemode": "area",
          "sizeref": 0.1,
          "symbol": "circle"
         },
         "mode": "markers",
         "name": "Czech Republic",
         "orientation": "v",
         "showlegend": true,
         "type": "scatter",
         "x": [
          23,
          12
         ],
         "xaxis": "x",
         "y": [
          21638,
          7390
         ],
         "yaxis": "y"
        },
        {
         "hovertemplate": "Country=Romania<br>TotalLifts=%{x}<br>LiftCapacity=%{y}<br>GondolaLifts=%{marker.size}<extra></extra>",
         "legendgroup": "Romania",
         "marker": {
          "color": "#636efa",
          "size": [
           4,
           3
          ],
          "sizemode": "area",
          "sizeref": 0.1,
          "symbol": "circle"
         },
         "mode": "markers",
         "name": "Romania",
         "orientation": "v",
         "showlegend": true,
         "type": "scatter",
         "x": [
          9,
          10
         ],
         "xaxis": "x",
         "y": [
          9864,
          11038
         ],
         "yaxis": "y"
        },
        {
         "hovertemplate": "Country=Greece<br>TotalLifts=%{x}<br>LiftCapacity=%{y}<br>GondolaLifts=%{marker.size}<extra></extra>",
         "legendgroup": "Greece",
         "marker": {
          "color": "#EF553B",
          "size": [
           5
          ],
          "sizemode": "area",
          "sizeref": 0.1,
          "symbol": "circle"
         },
         "mode": "markers",
         "name": "Greece",
         "orientation": "v",
         "showlegend": true,
         "type": "scatter",
         "x": [
          17
         ],
         "xaxis": "x",
         "y": [
          20052
         ],
         "yaxis": "y"
        },
        {
         "hovertemplate": "Country=United Kingdom<br>TotalLifts=%{x}<br>LiftCapacity=%{y}<br>GondolaLifts=%{marker.size}<extra></extra>",
         "legendgroup": "United Kingdom",
         "marker": {
          "color": "#00cc96",
          "size": [
           0,
           0,
           0,
           1
          ],
          "sizemode": "area",
          "sizeref": 0.1,
          "symbol": "circle"
         },
         "mode": "markers",
         "name": "United Kingdom",
         "orientation": "v",
         "showlegend": true,
         "type": "scatter",
         "x": [
          21,
          8,
          13,
          12
         ],
         "xaxis": "x",
         "y": [
          16255,
          5800,
          9750,
          10350
         ],
         "yaxis": "y"
        },
        {
         "hovertemplate": "Country=Liechtenstein<br>TotalLifts=%{x}<br>LiftCapacity=%{y}<br>GondolaLifts=%{marker.size}<extra></extra>",
         "legendgroup": "Liechtenstein",
         "marker": {
          "color": "#ab63fa",
          "size": [
           0
          ],
          "sizemode": "area",
          "sizeref": 0.1,
          "symbol": "circle"
         },
         "mode": "markers",
         "name": "Liechtenstein",
         "orientation": "v",
         "showlegend": true,
         "type": "scatter",
         "x": [
          9
         ],
         "xaxis": "x",
         "y": [
          8800
         ],
         "yaxis": "y"
        },
        {
         "hovertemplate": "Country=Lithuania<br>TotalLifts=%{x}<br>LiftCapacity=%{y}<br>GondolaLifts=%{marker.size}<extra></extra>",
         "legendgroup": "Lithuania",
         "marker": {
          "color": "#FFA15A",
          "size": [
           0
          ],
          "sizemode": "area",
          "sizeref": 0.1,
          "symbol": "circle"
         },
         "mode": "markers",
         "name": "Lithuania",
         "orientation": "v",
         "showlegend": true,
         "type": "scatter",
         "x": [
          5
         ],
         "xaxis": "x",
         "y": [
          2800
         ],
         "yaxis": "y"
        },
        {
         "hovertemplate": "Country=Denmark<br>TotalLifts=%{x}<br>LiftCapacity=%{y}<br>GondolaLifts=%{marker.size}<extra></extra>",
         "legendgroup": "Denmark",
         "marker": {
          "color": "#19d3f3",
          "size": [
           0,
           0,
           0,
           0,
           0,
           0,
           0,
           0
          ],
          "sizemode": "area",
          "sizeref": 0.1,
          "symbol": "circle"
         },
         "mode": "markers",
         "name": "Denmark",
         "orientation": "v",
         "showlegend": true,
         "type": "scatter",
         "x": [
          0,
          0,
          0,
          0,
          0,
          0,
          0,
          0
         ],
         "xaxis": "x",
         "y": [
          0,
          0,
          0,
          0,
          0,
          1220,
          600,
          1600
         ],
         "yaxis": "y"
        },
        {
         "hovertemplate": "Country=Netherlands<br>TotalLifts=%{x}<br>LiftCapacity=%{y}<br>GondolaLifts=%{marker.size}<extra></extra>",
         "legendgroup": "Netherlands",
         "marker": {
          "color": "#FF6692",
          "size": [
           0
          ],
          "sizemode": "area",
          "sizeref": 0.1,
          "symbol": "circle"
         },
         "mode": "markers",
         "name": "Netherlands",
         "orientation": "v",
         "showlegend": true,
         "type": "scatter",
         "x": [
          19
         ],
         "xaxis": "x",
         "y": [
          5231
         ],
         "yaxis": "y"
        }
       ],
       "layout": {
        "legend": {
         "itemsizing": "constant",
         "title": {
          "text": "Country"
         },
         "tracegroupgap": 0
        },
        "template": {
         "data": {
          "bar": [
           {
            "error_x": {
             "color": "#2a3f5f"
            },
            "error_y": {
             "color": "#2a3f5f"
            },
            "marker": {
             "line": {
              "color": "#E5ECF6",
              "width": 0.5
             },
             "pattern": {
              "fillmode": "overlay",
              "size": 10,
              "solidity": 0.2
             }
            },
            "type": "bar"
           }
          ],
          "barpolar": [
           {
            "marker": {
             "line": {
              "color": "#E5ECF6",
              "width": 0.5
             },
             "pattern": {
              "fillmode": "overlay",
              "size": 10,
              "solidity": 0.2
             }
            },
            "type": "barpolar"
           }
          ],
          "carpet": [
           {
            "aaxis": {
             "endlinecolor": "#2a3f5f",
             "gridcolor": "white",
             "linecolor": "white",
             "minorgridcolor": "white",
             "startlinecolor": "#2a3f5f"
            },
            "baxis": {
             "endlinecolor": "#2a3f5f",
             "gridcolor": "white",
             "linecolor": "white",
             "minorgridcolor": "white",
             "startlinecolor": "#2a3f5f"
            },
            "type": "carpet"
           }
          ],
          "choropleth": [
           {
            "colorbar": {
             "outlinewidth": 0,
             "ticks": ""
            },
            "type": "choropleth"
           }
          ],
          "contour": [
           {
            "colorbar": {
             "outlinewidth": 0,
             "ticks": ""
            },
            "colorscale": [
             [
              0,
              "#0d0887"
             ],
             [
              0.1111111111111111,
              "#46039f"
             ],
             [
              0.2222222222222222,
              "#7201a8"
             ],
             [
              0.3333333333333333,
              "#9c179e"
             ],
             [
              0.4444444444444444,
              "#bd3786"
             ],
             [
              0.5555555555555556,
              "#d8576b"
             ],
             [
              0.6666666666666666,
              "#ed7953"
             ],
             [
              0.7777777777777778,
              "#fb9f3a"
             ],
             [
              0.8888888888888888,
              "#fdca26"
             ],
             [
              1,
              "#f0f921"
             ]
            ],
            "type": "contour"
           }
          ],
          "contourcarpet": [
           {
            "colorbar": {
             "outlinewidth": 0,
             "ticks": ""
            },
            "type": "contourcarpet"
           }
          ],
          "heatmap": [
           {
            "colorbar": {
             "outlinewidth": 0,
             "ticks": ""
            },
            "colorscale": [
             [
              0,
              "#0d0887"
             ],
             [
              0.1111111111111111,
              "#46039f"
             ],
             [
              0.2222222222222222,
              "#7201a8"
             ],
             [
              0.3333333333333333,
              "#9c179e"
             ],
             [
              0.4444444444444444,
              "#bd3786"
             ],
             [
              0.5555555555555556,
              "#d8576b"
             ],
             [
              0.6666666666666666,
              "#ed7953"
             ],
             [
              0.7777777777777778,
              "#fb9f3a"
             ],
             [
              0.8888888888888888,
              "#fdca26"
             ],
             [
              1,
              "#f0f921"
             ]
            ],
            "type": "heatmap"
           }
          ],
          "heatmapgl": [
           {
            "colorbar": {
             "outlinewidth": 0,
             "ticks": ""
            },
            "colorscale": [
             [
              0,
              "#0d0887"
             ],
             [
              0.1111111111111111,
              "#46039f"
             ],
             [
              0.2222222222222222,
              "#7201a8"
             ],
             [
              0.3333333333333333,
              "#9c179e"
             ],
             [
              0.4444444444444444,
              "#bd3786"
             ],
             [
              0.5555555555555556,
              "#d8576b"
             ],
             [
              0.6666666666666666,
              "#ed7953"
             ],
             [
              0.7777777777777778,
              "#fb9f3a"
             ],
             [
              0.8888888888888888,
              "#fdca26"
             ],
             [
              1,
              "#f0f921"
             ]
            ],
            "type": "heatmapgl"
           }
          ],
          "histogram": [
           {
            "marker": {
             "pattern": {
              "fillmode": "overlay",
              "size": 10,
              "solidity": 0.2
             }
            },
            "type": "histogram"
           }
          ],
          "histogram2d": [
           {
            "colorbar": {
             "outlinewidth": 0,
             "ticks": ""
            },
            "colorscale": [
             [
              0,
              "#0d0887"
             ],
             [
              0.1111111111111111,
              "#46039f"
             ],
             [
              0.2222222222222222,
              "#7201a8"
             ],
             [
              0.3333333333333333,
              "#9c179e"
             ],
             [
              0.4444444444444444,
              "#bd3786"
             ],
             [
              0.5555555555555556,
              "#d8576b"
             ],
             [
              0.6666666666666666,
              "#ed7953"
             ],
             [
              0.7777777777777778,
              "#fb9f3a"
             ],
             [
              0.8888888888888888,
              "#fdca26"
             ],
             [
              1,
              "#f0f921"
             ]
            ],
            "type": "histogram2d"
           }
          ],
          "histogram2dcontour": [
           {
            "colorbar": {
             "outlinewidth": 0,
             "ticks": ""
            },
            "colorscale": [
             [
              0,
              "#0d0887"
             ],
             [
              0.1111111111111111,
              "#46039f"
             ],
             [
              0.2222222222222222,
              "#7201a8"
             ],
             [
              0.3333333333333333,
              "#9c179e"
             ],
             [
              0.4444444444444444,
              "#bd3786"
             ],
             [
              0.5555555555555556,
              "#d8576b"
             ],
             [
              0.6666666666666666,
              "#ed7953"
             ],
             [
              0.7777777777777778,
              "#fb9f3a"
             ],
             [
              0.8888888888888888,
              "#fdca26"
             ],
             [
              1,
              "#f0f921"
             ]
            ],
            "type": "histogram2dcontour"
           }
          ],
          "mesh3d": [
           {
            "colorbar": {
             "outlinewidth": 0,
             "ticks": ""
            },
            "type": "mesh3d"
           }
          ],
          "parcoords": [
           {
            "line": {
             "colorbar": {
              "outlinewidth": 0,
              "ticks": ""
             }
            },
            "type": "parcoords"
           }
          ],
          "pie": [
           {
            "automargin": true,
            "type": "pie"
           }
          ],
          "scatter": [
           {
            "fillpattern": {
             "fillmode": "overlay",
             "size": 10,
             "solidity": 0.2
            },
            "type": "scatter"
           }
          ],
          "scatter3d": [
           {
            "line": {
             "colorbar": {
              "outlinewidth": 0,
              "ticks": ""
             }
            },
            "marker": {
             "colorbar": {
              "outlinewidth": 0,
              "ticks": ""
             }
            },
            "type": "scatter3d"
           }
          ],
          "scattercarpet": [
           {
            "marker": {
             "colorbar": {
              "outlinewidth": 0,
              "ticks": ""
             }
            },
            "type": "scattercarpet"
           }
          ],
          "scattergeo": [
           {
            "marker": {
             "colorbar": {
              "outlinewidth": 0,
              "ticks": ""
             }
            },
            "type": "scattergeo"
           }
          ],
          "scattergl": [
           {
            "marker": {
             "colorbar": {
              "outlinewidth": 0,
              "ticks": ""
             }
            },
            "type": "scattergl"
           }
          ],
          "scattermapbox": [
           {
            "marker": {
             "colorbar": {
              "outlinewidth": 0,
              "ticks": ""
             }
            },
            "type": "scattermapbox"
           }
          ],
          "scatterpolar": [
           {
            "marker": {
             "colorbar": {
              "outlinewidth": 0,
              "ticks": ""
             }
            },
            "type": "scatterpolar"
           }
          ],
          "scatterpolargl": [
           {
            "marker": {
             "colorbar": {
              "outlinewidth": 0,
              "ticks": ""
             }
            },
            "type": "scatterpolargl"
           }
          ],
          "scatterternary": [
           {
            "marker": {
             "colorbar": {
              "outlinewidth": 0,
              "ticks": ""
             }
            },
            "type": "scatterternary"
           }
          ],
          "surface": [
           {
            "colorbar": {
             "outlinewidth": 0,
             "ticks": ""
            },
            "colorscale": [
             [
              0,
              "#0d0887"
             ],
             [
              0.1111111111111111,
              "#46039f"
             ],
             [
              0.2222222222222222,
              "#7201a8"
             ],
             [
              0.3333333333333333,
              "#9c179e"
             ],
             [
              0.4444444444444444,
              "#bd3786"
             ],
             [
              0.5555555555555556,
              "#d8576b"
             ],
             [
              0.6666666666666666,
              "#ed7953"
             ],
             [
              0.7777777777777778,
              "#fb9f3a"
             ],
             [
              0.8888888888888888,
              "#fdca26"
             ],
             [
              1,
              "#f0f921"
             ]
            ],
            "type": "surface"
           }
          ],
          "table": [
           {
            "cells": {
             "fill": {
              "color": "#EBF0F8"
             },
             "line": {
              "color": "white"
             }
            },
            "header": {
             "fill": {
              "color": "#C8D4E3"
             },
             "line": {
              "color": "white"
             }
            },
            "type": "table"
           }
          ]
         },
         "layout": {
          "annotationdefaults": {
           "arrowcolor": "#2a3f5f",
           "arrowhead": 0,
           "arrowwidth": 1
          },
          "autotypenumbers": "strict",
          "coloraxis": {
           "colorbar": {
            "outlinewidth": 0,
            "ticks": ""
           }
          },
          "colorscale": {
           "diverging": [
            [
             0,
             "#8e0152"
            ],
            [
             0.1,
             "#c51b7d"
            ],
            [
             0.2,
             "#de77ae"
            ],
            [
             0.3,
             "#f1b6da"
            ],
            [
             0.4,
             "#fde0ef"
            ],
            [
             0.5,
             "#f7f7f7"
            ],
            [
             0.6,
             "#e6f5d0"
            ],
            [
             0.7,
             "#b8e186"
            ],
            [
             0.8,
             "#7fbc41"
            ],
            [
             0.9,
             "#4d9221"
            ],
            [
             1,
             "#276419"
            ]
           ],
           "sequential": [
            [
             0,
             "#0d0887"
            ],
            [
             0.1111111111111111,
             "#46039f"
            ],
            [
             0.2222222222222222,
             "#7201a8"
            ],
            [
             0.3333333333333333,
             "#9c179e"
            ],
            [
             0.4444444444444444,
             "#bd3786"
            ],
            [
             0.5555555555555556,
             "#d8576b"
            ],
            [
             0.6666666666666666,
             "#ed7953"
            ],
            [
             0.7777777777777778,
             "#fb9f3a"
            ],
            [
             0.8888888888888888,
             "#fdca26"
            ],
            [
             1,
             "#f0f921"
            ]
           ],
           "sequentialminus": [
            [
             0,
             "#0d0887"
            ],
            [
             0.1111111111111111,
             "#46039f"
            ],
            [
             0.2222222222222222,
             "#7201a8"
            ],
            [
             0.3333333333333333,
             "#9c179e"
            ],
            [
             0.4444444444444444,
             "#bd3786"
            ],
            [
             0.5555555555555556,
             "#d8576b"
            ],
            [
             0.6666666666666666,
             "#ed7953"
            ],
            [
             0.7777777777777778,
             "#fb9f3a"
            ],
            [
             0.8888888888888888,
             "#fdca26"
            ],
            [
             1,
             "#f0f921"
            ]
           ]
          },
          "colorway": [
           "#636efa",
           "#EF553B",
           "#00cc96",
           "#ab63fa",
           "#FFA15A",
           "#19d3f3",
           "#FF6692",
           "#B6E880",
           "#FF97FF",
           "#FECB52"
          ],
          "font": {
           "color": "#2a3f5f"
          },
          "geo": {
           "bgcolor": "white",
           "lakecolor": "white",
           "landcolor": "#E5ECF6",
           "showlakes": true,
           "showland": true,
           "subunitcolor": "white"
          },
          "hoverlabel": {
           "align": "left"
          },
          "hovermode": "closest",
          "mapbox": {
           "style": "light"
          },
          "paper_bgcolor": "white",
          "plot_bgcolor": "#E5ECF6",
          "polar": {
           "angularaxis": {
            "gridcolor": "white",
            "linecolor": "white",
            "ticks": ""
           },
           "bgcolor": "#E5ECF6",
           "radialaxis": {
            "gridcolor": "white",
            "linecolor": "white",
            "ticks": ""
           }
          },
          "scene": {
           "xaxis": {
            "backgroundcolor": "#E5ECF6",
            "gridcolor": "white",
            "gridwidth": 2,
            "linecolor": "white",
            "showbackground": true,
            "ticks": "",
            "zerolinecolor": "white"
           },
           "yaxis": {
            "backgroundcolor": "#E5ECF6",
            "gridcolor": "white",
            "gridwidth": 2,
            "linecolor": "white",
            "showbackground": true,
            "ticks": "",
            "zerolinecolor": "white"
           },
           "zaxis": {
            "backgroundcolor": "#E5ECF6",
            "gridcolor": "white",
            "gridwidth": 2,
            "linecolor": "white",
            "showbackground": true,
            "ticks": "",
            "zerolinecolor": "white"
           }
          },
          "shapedefaults": {
           "line": {
            "color": "#2a3f5f"
           }
          },
          "ternary": {
           "aaxis": {
            "gridcolor": "white",
            "linecolor": "white",
            "ticks": ""
           },
           "baxis": {
            "gridcolor": "white",
            "linecolor": "white",
            "ticks": ""
           },
           "bgcolor": "#E5ECF6",
           "caxis": {
            "gridcolor": "white",
            "linecolor": "white",
            "ticks": ""
           }
          },
          "title": {
           "x": 0.05
          },
          "xaxis": {
           "automargin": true,
           "gridcolor": "white",
           "linecolor": "white",
           "ticks": "",
           "title": {
            "standoff": 15
           },
           "zerolinecolor": "white",
           "zerolinewidth": 2
          },
          "yaxis": {
           "automargin": true,
           "gridcolor": "white",
           "linecolor": "white",
           "ticks": "",
           "title": {
            "standoff": 15
           },
           "zerolinecolor": "white",
           "zerolinewidth": 2
          }
         }
        },
        "title": {
         "text": "Total Lifts Vs. Lift Capacity at European Resorts (Size = Gondola Lifts)"
        },
        "xaxis": {
         "anchor": "y",
         "domain": [
          0,
          1
         ],
         "title": {
          "text": "TotalLifts"
         }
        },
        "yaxis": {
         "anchor": "x",
         "domain": [
          0,
          1
         ],
         "title": {
          "text": "LiftCapacity"
         }
        }
       }
      }
     },
     "metadata": {},
     "output_type": "display_data"
    }
   ],
   "source": [
    "ski_resorts = pd.read_csv(\"European_Ski_Resorts.csv\").drop(\"Unnamed: 0\", axis=1)\n",
    "\n",
    "lift_type_by_country = (\n",
    "    ski_resorts\n",
    "    .groupby(\"Country\", as_index=False)\n",
    "    .agg({\"SurfaceLifts\":\"sum\", \"ChairLifts\":\"sum\", \"GondolaLifts\":\"sum\", \"TotalLifts\":\"sum\"})\n",
    "    .sort_values(\"TotalLifts\", ascending=False)\n",
    "    .iloc[:10]\n",
    ")\n",
    "\n",
    "# bubble chart\n",
    "px.scatter(\n",
    "    ski_resorts, \n",
    "    \"TotalLifts\", \n",
    "    \"LiftCapacity\", \n",
    "    color=\"Country\", \n",
    "    size=\"GondolaLifts\",\n",
    "    title=\"Total Lifts Vs. Lift Capacity at European Resorts (Size = Gondola Lifts)\"\n",
    ")\n",
    "\n"
   ]
  },
  {
   "cell_type": "code",
   "execution_count": 7,
   "metadata": {},
   "outputs": [
    {
     "data": {
      "application/vnd.plotly.v1+json": {
       "config": {
        "plotlyServerURL": "https://plot.ly"
       },
       "data": [
        {
         "direction": "clockwise",
         "domain": {
          "x": [
           0,
           1
          ],
          "y": [
           0,
           1
          ]
         },
         "hovertemplate": "lift_type=%{label}<br>count=%{value}<extra></extra>",
         "labels": [
          "SurfaceLifts",
          "ChairLifts",
          "GondolaLifts"
         ],
         "legendgroup": "",
         "name": "",
         "showlegend": true,
         "sort": false,
         "type": "pie",
         "values": [
          89,
          74,
          11
         ]
        }
       ],
       "layout": {
        "legend": {
         "tracegroupgap": 0
        },
        "template": {
         "data": {
          "bar": [
           {
            "error_x": {
             "color": "#2a3f5f"
            },
            "error_y": {
             "color": "#2a3f5f"
            },
            "marker": {
             "line": {
              "color": "#E5ECF6",
              "width": 0.5
             },
             "pattern": {
              "fillmode": "overlay",
              "size": 10,
              "solidity": 0.2
             }
            },
            "type": "bar"
           }
          ],
          "barpolar": [
           {
            "marker": {
             "line": {
              "color": "#E5ECF6",
              "width": 0.5
             },
             "pattern": {
              "fillmode": "overlay",
              "size": 10,
              "solidity": 0.2
             }
            },
            "type": "barpolar"
           }
          ],
          "carpet": [
           {
            "aaxis": {
             "endlinecolor": "#2a3f5f",
             "gridcolor": "white",
             "linecolor": "white",
             "minorgridcolor": "white",
             "startlinecolor": "#2a3f5f"
            },
            "baxis": {
             "endlinecolor": "#2a3f5f",
             "gridcolor": "white",
             "linecolor": "white",
             "minorgridcolor": "white",
             "startlinecolor": "#2a3f5f"
            },
            "type": "carpet"
           }
          ],
          "choropleth": [
           {
            "colorbar": {
             "outlinewidth": 0,
             "ticks": ""
            },
            "type": "choropleth"
           }
          ],
          "contour": [
           {
            "colorbar": {
             "outlinewidth": 0,
             "ticks": ""
            },
            "colorscale": [
             [
              0,
              "#0d0887"
             ],
             [
              0.1111111111111111,
              "#46039f"
             ],
             [
              0.2222222222222222,
              "#7201a8"
             ],
             [
              0.3333333333333333,
              "#9c179e"
             ],
             [
              0.4444444444444444,
              "#bd3786"
             ],
             [
              0.5555555555555556,
              "#d8576b"
             ],
             [
              0.6666666666666666,
              "#ed7953"
             ],
             [
              0.7777777777777778,
              "#fb9f3a"
             ],
             [
              0.8888888888888888,
              "#fdca26"
             ],
             [
              1,
              "#f0f921"
             ]
            ],
            "type": "contour"
           }
          ],
          "contourcarpet": [
           {
            "colorbar": {
             "outlinewidth": 0,
             "ticks": ""
            },
            "type": "contourcarpet"
           }
          ],
          "heatmap": [
           {
            "colorbar": {
             "outlinewidth": 0,
             "ticks": ""
            },
            "colorscale": [
             [
              0,
              "#0d0887"
             ],
             [
              0.1111111111111111,
              "#46039f"
             ],
             [
              0.2222222222222222,
              "#7201a8"
             ],
             [
              0.3333333333333333,
              "#9c179e"
             ],
             [
              0.4444444444444444,
              "#bd3786"
             ],
             [
              0.5555555555555556,
              "#d8576b"
             ],
             [
              0.6666666666666666,
              "#ed7953"
             ],
             [
              0.7777777777777778,
              "#fb9f3a"
             ],
             [
              0.8888888888888888,
              "#fdca26"
             ],
             [
              1,
              "#f0f921"
             ]
            ],
            "type": "heatmap"
           }
          ],
          "heatmapgl": [
           {
            "colorbar": {
             "outlinewidth": 0,
             "ticks": ""
            },
            "colorscale": [
             [
              0,
              "#0d0887"
             ],
             [
              0.1111111111111111,
              "#46039f"
             ],
             [
              0.2222222222222222,
              "#7201a8"
             ],
             [
              0.3333333333333333,
              "#9c179e"
             ],
             [
              0.4444444444444444,
              "#bd3786"
             ],
             [
              0.5555555555555556,
              "#d8576b"
             ],
             [
              0.6666666666666666,
              "#ed7953"
             ],
             [
              0.7777777777777778,
              "#fb9f3a"
             ],
             [
              0.8888888888888888,
              "#fdca26"
             ],
             [
              1,
              "#f0f921"
             ]
            ],
            "type": "heatmapgl"
           }
          ],
          "histogram": [
           {
            "marker": {
             "pattern": {
              "fillmode": "overlay",
              "size": 10,
              "solidity": 0.2
             }
            },
            "type": "histogram"
           }
          ],
          "histogram2d": [
           {
            "colorbar": {
             "outlinewidth": 0,
             "ticks": ""
            },
            "colorscale": [
             [
              0,
              "#0d0887"
             ],
             [
              0.1111111111111111,
              "#46039f"
             ],
             [
              0.2222222222222222,
              "#7201a8"
             ],
             [
              0.3333333333333333,
              "#9c179e"
             ],
             [
              0.4444444444444444,
              "#bd3786"
             ],
             [
              0.5555555555555556,
              "#d8576b"
             ],
             [
              0.6666666666666666,
              "#ed7953"
             ],
             [
              0.7777777777777778,
              "#fb9f3a"
             ],
             [
              0.8888888888888888,
              "#fdca26"
             ],
             [
              1,
              "#f0f921"
             ]
            ],
            "type": "histogram2d"
           }
          ],
          "histogram2dcontour": [
           {
            "colorbar": {
             "outlinewidth": 0,
             "ticks": ""
            },
            "colorscale": [
             [
              0,
              "#0d0887"
             ],
             [
              0.1111111111111111,
              "#46039f"
             ],
             [
              0.2222222222222222,
              "#7201a8"
             ],
             [
              0.3333333333333333,
              "#9c179e"
             ],
             [
              0.4444444444444444,
              "#bd3786"
             ],
             [
              0.5555555555555556,
              "#d8576b"
             ],
             [
              0.6666666666666666,
              "#ed7953"
             ],
             [
              0.7777777777777778,
              "#fb9f3a"
             ],
             [
              0.8888888888888888,
              "#fdca26"
             ],
             [
              1,
              "#f0f921"
             ]
            ],
            "type": "histogram2dcontour"
           }
          ],
          "mesh3d": [
           {
            "colorbar": {
             "outlinewidth": 0,
             "ticks": ""
            },
            "type": "mesh3d"
           }
          ],
          "parcoords": [
           {
            "line": {
             "colorbar": {
              "outlinewidth": 0,
              "ticks": ""
             }
            },
            "type": "parcoords"
           }
          ],
          "pie": [
           {
            "automargin": true,
            "type": "pie"
           }
          ],
          "scatter": [
           {
            "fillpattern": {
             "fillmode": "overlay",
             "size": 10,
             "solidity": 0.2
            },
            "type": "scatter"
           }
          ],
          "scatter3d": [
           {
            "line": {
             "colorbar": {
              "outlinewidth": 0,
              "ticks": ""
             }
            },
            "marker": {
             "colorbar": {
              "outlinewidth": 0,
              "ticks": ""
             }
            },
            "type": "scatter3d"
           }
          ],
          "scattercarpet": [
           {
            "marker": {
             "colorbar": {
              "outlinewidth": 0,
              "ticks": ""
             }
            },
            "type": "scattercarpet"
           }
          ],
          "scattergeo": [
           {
            "marker": {
             "colorbar": {
              "outlinewidth": 0,
              "ticks": ""
             }
            },
            "type": "scattergeo"
           }
          ],
          "scattergl": [
           {
            "marker": {
             "colorbar": {
              "outlinewidth": 0,
              "ticks": ""
             }
            },
            "type": "scattergl"
           }
          ],
          "scattermapbox": [
           {
            "marker": {
             "colorbar": {
              "outlinewidth": 0,
              "ticks": ""
             }
            },
            "type": "scattermapbox"
           }
          ],
          "scatterpolar": [
           {
            "marker": {
             "colorbar": {
              "outlinewidth": 0,
              "ticks": ""
             }
            },
            "type": "scatterpolar"
           }
          ],
          "scatterpolargl": [
           {
            "marker": {
             "colorbar": {
              "outlinewidth": 0,
              "ticks": ""
             }
            },
            "type": "scatterpolargl"
           }
          ],
          "scatterternary": [
           {
            "marker": {
             "colorbar": {
              "outlinewidth": 0,
              "ticks": ""
             }
            },
            "type": "scatterternary"
           }
          ],
          "surface": [
           {
            "colorbar": {
             "outlinewidth": 0,
             "ticks": ""
            },
            "colorscale": [
             [
              0,
              "#0d0887"
             ],
             [
              0.1111111111111111,
              "#46039f"
             ],
             [
              0.2222222222222222,
              "#7201a8"
             ],
             [
              0.3333333333333333,
              "#9c179e"
             ],
             [
              0.4444444444444444,
              "#bd3786"
             ],
             [
              0.5555555555555556,
              "#d8576b"
             ],
             [
              0.6666666666666666,
              "#ed7953"
             ],
             [
              0.7777777777777778,
              "#fb9f3a"
             ],
             [
              0.8888888888888888,
              "#fdca26"
             ],
             [
              1,
              "#f0f921"
             ]
            ],
            "type": "surface"
           }
          ],
          "table": [
           {
            "cells": {
             "fill": {
              "color": "#EBF0F8"
             },
             "line": {
              "color": "white"
             }
            },
            "header": {
             "fill": {
              "color": "#C8D4E3"
             },
             "line": {
              "color": "white"
             }
            },
            "type": "table"
           }
          ]
         },
         "layout": {
          "annotationdefaults": {
           "arrowcolor": "#2a3f5f",
           "arrowhead": 0,
           "arrowwidth": 1
          },
          "autotypenumbers": "strict",
          "coloraxis": {
           "colorbar": {
            "outlinewidth": 0,
            "ticks": ""
           }
          },
          "colorscale": {
           "diverging": [
            [
             0,
             "#8e0152"
            ],
            [
             0.1,
             "#c51b7d"
            ],
            [
             0.2,
             "#de77ae"
            ],
            [
             0.3,
             "#f1b6da"
            ],
            [
             0.4,
             "#fde0ef"
            ],
            [
             0.5,
             "#f7f7f7"
            ],
            [
             0.6,
             "#e6f5d0"
            ],
            [
             0.7,
             "#b8e186"
            ],
            [
             0.8,
             "#7fbc41"
            ],
            [
             0.9,
             "#4d9221"
            ],
            [
             1,
             "#276419"
            ]
           ],
           "sequential": [
            [
             0,
             "#0d0887"
            ],
            [
             0.1111111111111111,
             "#46039f"
            ],
            [
             0.2222222222222222,
             "#7201a8"
            ],
            [
             0.3333333333333333,
             "#9c179e"
            ],
            [
             0.4444444444444444,
             "#bd3786"
            ],
            [
             0.5555555555555556,
             "#d8576b"
            ],
            [
             0.6666666666666666,
             "#ed7953"
            ],
            [
             0.7777777777777778,
             "#fb9f3a"
            ],
            [
             0.8888888888888888,
             "#fdca26"
            ],
            [
             1,
             "#f0f921"
            ]
           ],
           "sequentialminus": [
            [
             0,
             "#0d0887"
            ],
            [
             0.1111111111111111,
             "#46039f"
            ],
            [
             0.2222222222222222,
             "#7201a8"
            ],
            [
             0.3333333333333333,
             "#9c179e"
            ],
            [
             0.4444444444444444,
             "#bd3786"
            ],
            [
             0.5555555555555556,
             "#d8576b"
            ],
            [
             0.6666666666666666,
             "#ed7953"
            ],
            [
             0.7777777777777778,
             "#fb9f3a"
            ],
            [
             0.8888888888888888,
             "#fdca26"
            ],
            [
             1,
             "#f0f921"
            ]
           ]
          },
          "colorway": [
           "#636efa",
           "#EF553B",
           "#00cc96",
           "#ab63fa",
           "#FFA15A",
           "#19d3f3",
           "#FF6692",
           "#B6E880",
           "#FF97FF",
           "#FECB52"
          ],
          "font": {
           "color": "#2a3f5f"
          },
          "geo": {
           "bgcolor": "white",
           "lakecolor": "white",
           "landcolor": "#E5ECF6",
           "showlakes": true,
           "showland": true,
           "subunitcolor": "white"
          },
          "hoverlabel": {
           "align": "left"
          },
          "hovermode": "closest",
          "mapbox": {
           "style": "light"
          },
          "paper_bgcolor": "white",
          "plot_bgcolor": "#E5ECF6",
          "polar": {
           "angularaxis": {
            "gridcolor": "white",
            "linecolor": "white",
            "ticks": ""
           },
           "bgcolor": "#E5ECF6",
           "radialaxis": {
            "gridcolor": "white",
            "linecolor": "white",
            "ticks": ""
           }
          },
          "scene": {
           "xaxis": {
            "backgroundcolor": "#E5ECF6",
            "gridcolor": "white",
            "gridwidth": 2,
            "linecolor": "white",
            "showbackground": true,
            "ticks": "",
            "zerolinecolor": "white"
           },
           "yaxis": {
            "backgroundcolor": "#E5ECF6",
            "gridcolor": "white",
            "gridwidth": 2,
            "linecolor": "white",
            "showbackground": true,
            "ticks": "",
            "zerolinecolor": "white"
           },
           "zaxis": {
            "backgroundcolor": "#E5ECF6",
            "gridcolor": "white",
            "gridwidth": 2,
            "linecolor": "white",
            "showbackground": true,
            "ticks": "",
            "zerolinecolor": "white"
           }
          },
          "shapedefaults": {
           "line": {
            "color": "#2a3f5f"
           }
          },
          "ternary": {
           "aaxis": {
            "gridcolor": "white",
            "linecolor": "white",
            "ticks": ""
           },
           "baxis": {
            "gridcolor": "white",
            "linecolor": "white",
            "ticks": ""
           },
           "bgcolor": "#E5ECF6",
           "caxis": {
            "gridcolor": "white",
            "linecolor": "white",
            "ticks": ""
           }
          },
          "title": {
           "x": 0.05
          },
          "xaxis": {
           "automargin": true,
           "gridcolor": "white",
           "linecolor": "white",
           "ticks": "",
           "title": {
            "standoff": 15
           },
           "zerolinecolor": "white",
           "zerolinewidth": 2
          },
          "yaxis": {
           "automargin": true,
           "gridcolor": "white",
           "linecolor": "white",
           "ticks": "",
           "title": {
            "standoff": 15
           },
           "zerolinecolor": "white",
           "zerolinewidth": 2
          }
         }
        },
        "title": {
         "text": "Les Gets Resort Ski Lift by Type"
        }
       }
      }
     },
     "metadata": {},
     "output_type": "display_data"
    }
   ],
   "source": [
    "les_gets = (\n",
    "    ski_resorts\n",
    "    .loc[ski_resorts[\"LiftCapacity\"].argmax()].iloc[[-6, -5, -4]]\n",
    "    .reset_index()\n",
    "    .rename({\"index\": \"lift_type\", 265: \"count\"}, axis=1)\n",
    ")\n",
    "\n",
    "#donut chart\n",
    "\n",
    "px.pie(\n",
    "    les_gets,\n",
    "    values=\"count\",\n",
    "    names=\"lift_type\",\n",
    "    hole=.75,\n",
    "    category_orders = {\"lift_type\": [\"SurfaceLifts\", \"ChairLifts\", \"GondolaLifts\"]},\n",
    "    title=\"Les Gets Resort Ski Lift by Type\"\n",
    ")"
   ]
  }
 ],
 "metadata": {
  "kernelspec": {
   "display_name": "Python 3",
   "language": "python",
   "name": "python3"
  },
  "language_info": {
   "codemirror_mode": {
    "name": "ipython",
    "version": 3
   },
   "file_extension": ".py",
   "mimetype": "text/x-python",
   "name": "python",
   "nbconvert_exporter": "python",
   "pygments_lexer": "ipython3",
   "version": "3.12.6"
  }
 },
 "nbformat": 4,
 "nbformat_minor": 2
}
